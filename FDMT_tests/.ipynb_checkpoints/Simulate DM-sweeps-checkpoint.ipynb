{
 "cells": [
  {
   "cell_type": "code",
   "execution_count": 1,
   "id": "ff5b8cb9",
   "metadata": {},
   "outputs": [],
   "source": [
    "import numpy as np\n",
    "import matplotlib.pyplot as plt\n",
    "%matplotlib notebook"
   ]
  },
  {
   "cell_type": "code",
   "execution_count": 2,
   "id": "22aac78f",
   "metadata": {},
   "outputs": [],
   "source": [
    "from numba import njit"
   ]
  },
  {
   "cell_type": "code",
   "execution_count": null,
   "id": "a5219e7f",
   "metadata": {},
   "outputs": [],
   "source": [
    "class Delta_furby:\n",
    "    def __init__(self, fmin, fmax, nch, tsamp, tx=100):\n",
    "        '''\n",
    "        fmin: MHz - center freq of bottom chan\n",
    "        fmaz: MHz - center freq of top chan\n",
    "        nch: Nchans (int)\n",
    "        tsamp: sampling time in seconds\n",
    "        '''\n",
    "        \n",
    "        self.fmin = fmin\n",
    "        self.fmax = fmax\n",
    "        self.cfreq = (self.fmin + self.fmax) / 2\n",
    "        self.nch = nch\n",
    "        self.tsamp = tsamp\n",
    "        self.tx = tx\n",
    "        \n",
    "    def make_pure_frb(block_shape, tx=None):\n",
    "        \n",
    "        if tx is None:\n",
    "            tx = self.tx\n",
    "            \n",
    "        \n",
    "        \n",
    "        \n"
   ]
  },
  {
   "cell_type": "code",
   "execution_count": 50,
   "id": "2bb99eea",
   "metadata": {},
   "outputs": [],
   "source": [
    "@njit\n",
    "def make_pure_frb(nsamps, nch, tx, dm, fchans, chw_2):\n",
    "    x = np.empty((nch, nsamps*tx), dtype=np.float32)\n",
    "    fbottom = fchans[0] - chw_2\n",
    "    ftop = fchans[-1] + chw_2\n",
    "    loc = nsamps * tx //2\n",
    "    for ii in range(nch):\n",
    "        ftop_i = fchans[ii] + chw_2\n",
    "        fbottom_i = fchans[ii] - chw_2\n",
    "        \n",
    "        cff_until_now = (fbottom**-2 - fbottom_i**-2) / (fbottom**-2 - ftop**-2)\n",
    "        delta_dm = dm * cff_until_now\n",
    "        tend = tpulse - delta_dm\n",
    "        \n",
    "        cff_i = (fbottom_i**-2 - ftop_i**-2) / (fbottom**-2 - ftop**-2)\n",
    "        dm_i = cff_i * dm\n",
    "        tstart = tend - dm_i\n",
    "        \n",
    "        \n",
    "        for jj in range(nsamps * tx):\n",
    "            if jj == loc:\n",
    "                x[ii, jj] = 10000\n",
    "            else:\n",
    "                x[ii, jj] = 0\n",
    "    #x[:, :] = 0\n",
    "    #x[:, nsamps//2] = 10000\n",
    "    return x"
   ]
  },
  {
   "cell_type": "code",
   "execution_count": 53,
   "id": "f7bb0434",
   "metadata": {},
   "outputs": [
    {
     "name": "stdout",
     "output_type": "stream",
     "text": [
      "13.3 ms ± 115 µs per loop (mean ± std. dev. of 7 runs, 100 loops each)\n"
     ]
    }
   ],
   "source": [
    "%timeit make_pure_frb(1000, 256, 100)"
   ]
  },
  {
   "cell_type": "code",
   "execution_count": 36,
   "id": "b789c2cf",
   "metadata": {},
   "outputs": [
    {
     "name": "stdout",
     "output_type": "stream",
     "text": [
      "17.8 µs ± 319 ns per loop (mean ± std. dev. of 7 runs, 100,000 loops each)\n"
     ]
    }
   ],
   "source": [
    "%timeit np.empty((256, 1000*100), dtype=np.float32)"
   ]
  },
  {
   "cell_type": "code",
   "execution_count": 56,
   "id": "30305d74",
   "metadata": {},
   "outputs": [
    {
     "data": {
      "text/plain": [
       "100"
      ]
     },
     "execution_count": 56,
     "metadata": {},
     "output_type": "execute_result"
    }
   ],
   "source": [
    "len(np.linspace(100, 200, 100, endpoint=True))"
   ]
  },
  {
   "cell_type": "code",
   "execution_count": null,
   "id": "312370a9",
   "metadata": {},
   "outputs": [],
   "source": []
  }
 ],
 "metadata": {
  "kernelspec": {
   "display_name": "Python 3 (ipykernel)",
   "language": "python",
   "name": "python3"
  },
  "language_info": {
   "codemirror_mode": {
    "name": "ipython",
    "version": 3
   },
   "file_extension": ".py",
   "mimetype": "text/x-python",
   "name": "python",
   "nbconvert_exporter": "python",
   "pygments_lexer": "ipython3",
   "version": "3.10.4"
  }
 },
 "nbformat": 4,
 "nbformat_minor": 5
}
